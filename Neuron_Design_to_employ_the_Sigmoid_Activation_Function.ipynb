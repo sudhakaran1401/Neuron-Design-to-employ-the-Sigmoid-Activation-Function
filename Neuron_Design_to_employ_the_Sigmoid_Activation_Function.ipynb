{
  "nbformat": 4,
  "nbformat_minor": 0,
  "metadata": {
    "colab": {
      "name": "Neuron Design to employ the Sigmoid Activation Function",
      "provenance": [],
      "collapsed_sections": [],
      "authorship_tag": "ABX9TyPnjqVihhvimlDyi3Kjfwxr",
      "include_colab_link": true
    },
    "kernelspec": {
      "name": "python3",
      "display_name": "Python 3"
    },
    "language_info": {
      "name": "python"
    }
  },
  "cells": [
    {
      "cell_type": "markdown",
      "metadata": {
        "id": "view-in-github",
        "colab_type": "text"
      },
      "source": [
        "<a href=\"https://colab.research.google.com/github/sudhakaran1401/Neuron-Design-to-employ-the-Sigmoid-Activation-Function/blob/main/Neuron_Design_to_employ_the_Sigmoid_Activation_Function.ipynb\" target=\"_parent\"><img src=\"https://colab.research.google.com/assets/colab-badge.svg\" alt=\"Open In Colab\"/></a>"
      ]
    },
    {
      "cell_type": "code",
      "execution_count": null,
      "metadata": {
        "colab": {
          "base_uri": "https://localhost:8080/"
        },
        "id": "RL14QoJu6mD-",
        "outputId": "d4cc3c00-172d-45aa-8ce8-474c7a2c2559"
      },
      "outputs": [
        {
          "output_type": "stream",
          "name": "stdout",
          "text": [
            "Beginning Randomly Generated Weights: \n",
            "[[-0.16595599]\n",
            " [ 0.44064899]\n",
            " [-0.99977125]]\n",
            "Ending weights after Training: \n",
            "[[10.08740896]\n",
            " [-0.20695366]\n",
            " [-4.83757835]]\n",
            "User Input one: 0.1\n",
            "User Input two: 0.5\n",
            "User Input three: 0.7\n",
            "cosidering New Situations:  0.1 0.5 0.7\n",
            "New Output Data: \n",
            "[0.07719803]\n",
            "Wow,We did it!\n"
          ]
        }
      ],
      "source": [
        "# Ex NO 4. Simple Neuron Design to employ the Sigmoid Activation Function\n",
        "import numpy as np\n",
        "class NeuralNetwork():\n",
        "    def __init__(self):\n",
        "      # seeding for random number generation\n",
        "        np.random.seed(1)\n",
        "\n",
        "      #converting weights to a 3*1 matrix with values from -1 to 1\n",
        "        self.synaptic_weights=2*np.random.random((3,1))-1\n",
        "    def sigmoid(self,x):\n",
        "      #applying the sigmoid function\n",
        "        return 1/(1+np.exp(-x))\n",
        "\n",
        "    def sigmoid_derivative(self,x):\n",
        "      #computing derivative to the sigmoid function\n",
        "        return x*(1-x)\n",
        "    def train(self,training_inputs,training_outputs,training_iterations):\n",
        "      #training the model to make accurate predictions while adjusting weights\n",
        "        for iteration in range(training_iterations):\n",
        "          #output of the neuron\n",
        "            output=self.think(training_inputs)\n",
        "\n",
        "            #computing error rate for back propagation\n",
        "            error=training_outputs-output\n",
        "\n",
        "            #performing weight adjustments\n",
        "            adjustments=np.dot(training_inputs.T,error*self.sigmoid_derivative(output))\n",
        "            self.synaptic_weights+=adjustments\n",
        "\n",
        "    def think(self,inputs):\n",
        "      #passing the inputs via the neuron to get output\n",
        "      #converting values to floats\n",
        "        inputs=inputs.astype(float)\n",
        "        output=self.sigmoid(np.dot(inputs,self.synaptic_weights))\n",
        "        return output\n",
        "if __name__ == \"__main__\":\n",
        "  #initializing the neuron class\n",
        "    neuron=NeuralNetwork()\n",
        "    print(\"Beginning Randomly Generated Weights: \")\n",
        "    print(neuron.synaptic_weights)\n",
        "\n",
        "    #training data consisting of 4 examples--3 input values and 1 output\n",
        "    training_inputs=np.array([[0,0,1],\n",
        "                             [1,1,1],\n",
        "                             [1,0,1],\n",
        "                             [0,1,1]])\n",
        "    training_outputs=np.array([[0,1,1,0]]).T\n",
        "    \n",
        "    #training taking place\n",
        "    neuron.train(training_inputs, training_outputs, 15000)\n",
        "    \n",
        "    print(\"Ending weights after Training: \")\n",
        "    print(neuron.synaptic_weights)\n",
        "    \n",
        "    user_input_one=str(input(\"User Input one: \"))\n",
        "    user_input_two=str(input(\"User Input two: \"))\n",
        "    user_input_three=str(input(\"User Input three: \"))\n",
        "    \n",
        "    print(\"cosidering New Situations: \",user_input_one,user_input_two,user_input_three)\n",
        "    print(\"New Output Data: \")\n",
        "    print(neuron.think(np.array([user_input_one,user_input_two,user_input_three])))\n",
        "    print(\"Wow,We did it!\")"
      ]
    }
  ]
}